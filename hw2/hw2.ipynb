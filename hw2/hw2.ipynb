{
 "cells": [
  {
   "cell_type": "code",
   "execution_count": 7,
   "metadata": {},
   "outputs": [],
   "source": [
    "import os\n",
    "import sys\n",
    "import time\n",
    "import math\n",
    "import random\n",
    "import pickle\n",
    "\n",
    "import numpy as np\n",
    "import matplotlib.pyplot as plt\n",
    "\n",
    "from dbn import DBN, fit_mnist_dbn\n",
    "# from neural_net import WarmUpMLPClassifier\n",
    "from rbm import RBM, binary_data, shuffle_corpus"
   ]
  },
  {
   "cell_type": "code",
   "execution_count": 9,
   "metadata": {},
   "outputs": [],
   "source": [
    "def plot_images(images, path = None, cols=3, cmap='gray'):\n",
    "    rows = (len(images) + cols - 1) // cols\n",
    "    fig, ax = plt.subplots(rows, cols)\n",
    "    for i, image in enumerate(images):\n",
    "        ax[i//cols][i%cols].imshow(image, cmap=cmap)\n",
    "        ax[i//cols][i%cols].get_xaxis().set_ticks([])\n",
    "        ax[i//cols][i%cols].get_yaxis().set_ticks([])\n",
    "    for i in range(len(images), rows*cols):\n",
    "        ax[i//cols][i%cols].get_xaxis().set_ticks([])\n",
    "        ax[i//cols][i%cols].get_yaxis().set_ticks([])\n",
    "        ax[i//cols][i%cols].axis('off')\n",
    "    fig.set_size_inches(cols*10, rows*10)\n",
    "    if path is not None:\n",
    "        plt.savefig(path)\n",
    "    plt.show()"
   ]
  },
  {
   "cell_type": "markdown",
   "metadata": {},
   "source": [
    "# Load MNIST dataset"
   ]
  },
  {
   "cell_type": "code",
   "execution_count": 10,
   "metadata": {},
   "outputs": [
    {
     "data": {
      "text/plain": [
       "<matplotlib.image.AxesImage at 0x2a4816a00>"
      ]
     },
     "execution_count": 10,
     "metadata": {},
     "output_type": "execute_result"
    },
    {
     "data": {
      "image/png": "[encoded data removed]",
      "text/plain": [
       "<Figure size 640x480 with 1 Axes>"
      ]
     },
     "metadata": {},
     "output_type": "display_data"
    }
   ],
   "source": [
    "np.seterr(all='raise')\n",
    "train_data = np.genfromtxt('./data/digitstrain.txt', delimiter=\",\")\n",
    "train_X = train_data[:, :-1] \n",
    "train_Y = train_data[:, -1]\n",
    "train_X = binary_data(train_X)\n",
    "\n",
    "valid_data = np.genfromtxt('./data/digitsvalid.txt', delimiter=\",\")\n",
    "valid_X = valid_data[:, :-1]\n",
    "valid_X = binary_data(valid_X)\n",
    "valid_Y = valid_data[:, -1]\n",
    "\n",
    "test_data = np.genfromtxt('./data/digitstest.txt', delimiter=\",\")\n",
    "test_X = test_data[:, :-1]\n",
    "test_X = binary_data(test_X)\n",
    "test_Y = test_data[:, -1]\n",
    "\n",
    "plt.imshow(train_X[0].reshape(28, 28), cmap='gray')"
   ]
  },
  {
   "cell_type": "markdown",
   "metadata": {},
   "source": [
    "# 0) Local Autograder tests"
   ]
  },
  {
   "cell_type": "code",
   "execution_count": 11,
   "metadata": {},
   "outputs": [
    {
     "name": "stdout",
     "output_type": "stream",
     "text": [
      "Requirement already satisfied: gradescope-utils in /Users/jamesemilian/pytorch-test/env/lib/python3.8/site-packages (0.5.0)\n"
     ]
    }
   ],
   "source": [
    "!pip install gradescope-utils"
   ]
  },
  {
   "cell_type": "code",
   "execution_count": 12,
   "metadata": {},
   "outputs": [
    {
     "data": {
      "text/plain": [
       "'/Users/jamesemilian/Desktop/CMU/Spr24/AdvDL/homeworks/hw2/S24_HW2_student_handout/Programming'"
      ]
     },
     "execution_count": 12,
     "metadata": {},
     "output_type": "execute_result"
    }
   ],
   "source": [
    "os.getcwd()"
   ]
  },
  {
   "cell_type": "code",
   "execution_count": 13,
   "metadata": {},
   "outputs": [
    {
     "name": "stdout",
     "output_type": "stream",
     "text": [
      "{\n",
      "    \"tests\": [\n",
      "        {\n",
      "            \"name\": \"test (tests.gibbs_k)\",\n",
      "            \"score\": 0.0,\n",
      "            \"max_score\": 2,\n",
      "            \"status\": \"failed\",\n",
      "            \"output\": \"Test Failed: shapes (784,) and (4,784) not aligned: 784 (dim 0) != 4 (dim 0)\\n\"\n",
      "        },\n",
      "        {\n",
      "            \"name\": \"test (tests.h_v)\",\n",
      "            \"score\": 0.0,\n",
      "            \"max_score\": 2,\n",
      "            \"status\": \"failed\",\n",
      "            \"output\": \"Test Failed: shapes (784,) and (4,784) not aligned: 784 (dim 0) != 4 (dim 0)\\n\"\n",
      "        },\n",
      "        {\n",
      "            \"name\": \"test (tests.rec_error)\",\n",
      "            \"score\": 0.0,\n",
      "            \"max_score\": 2,\n",
      "            \"status\": \"failed\",\n",
      "            \"output\": \"Test Failed: ufunc 'isfinite' not supported for the input types, and the inputs could not be safely coerced to any supported types according to the casting rule ''safe''\\n\"\n",
      "        },\n",
      "        {\n",
      "            \"name\": \"test (tests.sample_h)\",\n",
      "            \"score\": 2,\n",
      "            \"max_score\": 2,\n",
      "            \"status\": \"passed\"\n",
      "        },\n",
      "        {\n",
      "            \"name\": \"test (tests.sample_v)\",\n",
      "            \"score\": 0.0,\n",
      "            \"max_score\": 2,\n",
      "            \"status\": \"failed\",\n",
      "            \"output\": \"Test Failed: Output size (784, 1) is not compatible with broadcast dimensions of inputs (784, 784).\\n\"\n",
      "        },\n",
      "        {\n",
      "            \"name\": \"test (tests.sample_v_injection)\",\n",
      "            \"score\": 0.0,\n",
      "            \"max_score\": 5,\n",
      "            \"status\": \"failed\",\n",
      "            \"output\": \"Test Failed: Output size (784, 1) is not compatible with broadcast dimensions of inputs (784, 784).\\n\"\n",
      "        },\n",
      "        {\n",
      "            \"name\": \"test (tests.update)\",\n",
      "            \"score\": 0.0,\n",
      "            \"max_score\": 3,\n",
      "            \"status\": \"failed\",\n",
      "            \"output\": \"Test Failed: shapes (784,) and (4,784) not aligned: 784 (dim 0) != 4 (dim 0)\\n\"\n",
      "        },\n",
      "        {\n",
      "            \"name\": \"test (tests.v_h)\",\n",
      "            \"score\": 0.0,\n",
      "            \"max_score\": 2,\n",
      "            \"status\": \"failed\",\n",
      "            \"output\": \"Test Failed: shapes (4,) and (784,4) not aligned: 4 (dim 0) != 784 (dim 0)\\n\"\n",
      "        }\n",
      "    ],\n",
      "    \"leaderboard\": [],\n",
      "    \"visibility\": \"visible\",\n",
      "    \"execution_time\": \"0.01\",\n",
      "    \"score\": 2.0\n",
      "}\n"
     ]
    }
   ],
   "source": [
    "%run tests/run_tests.py"
   ]
  },
  {
   "cell_type": "markdown",
   "metadata": {},
   "source": [
    "# 1) RBM Task\n",
    "\n",
    "Two files, `rbm.py` and `dbn.py`, are provided. Only `rbm.py` will be evaluated in autograder, but you need to implement and submit both. You should read the instructions on top of these files, and the docstrings very carefully. You can change anything as you see fit in `dbn.py`, as this file will not be autograded.\n",
    "\n",
    "We recommend you to complete and use the <span style=\"color:DarkOrange\"> RBM.fit </span>, <span style=\"color:DarkOrange\">  </span> and <span style=\"color:DarkOrange\"> DBN.fit </span> methods."
   ]
  },
  {
   "cell_type": "markdown",
   "metadata": {},
   "source": [
    "## a) Training RBM\n",
    "\n",
    "Try the RBM model with gibbs steps $k$ as 1, 3, and 5. For each $k$, plot reconstruction error against the epoch number for training and validation on one plot. So you should include 3 plots here, each contains two curves for training and validation. How does $k$ affect training convergence of the model?"
   ]
  },
  {
   "cell_type": "code",
   "execution_count": null,
   "metadata": {},
   "outputs": [],
   "source": [
    "n_hidden = 200\n",
    "ks = [1, 3, 5]\n",
    "lr = 0.01\n",
    "\n",
    "result = {}\n",
    "rbms = {}\n",
    "\n",
    "# Finish the training process"
   ]
  },
  {
   "cell_type": "markdown",
   "metadata": {},
   "source": [
    "## b) Visualizing and understanding learned parameters\n",
    "\n",
    "Choose one model that you like, and visualize its learned $W$ as 200 images that are 28-by-28 in pixel. Plot all of them in one figure. What are being plotted here? Do they exhibit any structure?"
   ]
  },
  {
   "cell_type": "code",
   "execution_count": null,
   "metadata": {},
   "outputs": [],
   "source": []
  },
  {
   "cell_type": "markdown",
   "metadata": {},
   "source": [
    "## c) Generation\n",
    "\n",
    "Set $k>1000$ for this task. Display the 100 generated samples for digit images in one figure. Do they look like handwritten digits? What if you retrain your RBM on only 3 digits, say $\\textbf{1, 2}$ and $\\textbf{3}$? If you train with $k=1$ vs $k=5$, do you see a difference in generated figures?"
   ]
  },
  {
   "cell_type": "code",
   "execution_count": null,
   "metadata": {},
   "outputs": [],
   "source": []
  },
  {
   "cell_type": "markdown",
   "metadata": {},
   "source": [
    "## d) Conditional Generation\n",
    "\n",
    "Only reveal the top half of MNIST images (data generation code is provided to you), and use the RBM to reconstruct the bottom half of the image. Note here when you do gibbs sampling, when you sample $\\bf v$ condition on $\\bf h$, part of $\\bf v$ is known for sure. You need to inject these known value to the newly sampled $\\bf v$."
   ]
  },
  {
   "cell_type": "code",
   "execution_count": null,
   "metadata": {
    "scrolled": false
   },
   "outputs": [],
   "source": [
    "# ims = []\n",
    "num_test = 10\n",
    "mask = np.zeros((28, 28))\n",
    "mask[0:14] = 1\n",
    "mask_1d = mask.reshape(-1)\n",
    "masked_X=[]\n",
    "for i in range(num_test):\n",
    "    masked_X.append(train_X[i*300])\n",
    "\n",
    "plot_images([(x*mask_1d).reshape(28,28) for x in masked_X], path = None, cols=5, cmap='gray')"
   ]
  },
  {
   "cell_type": "code",
   "execution_count": null,
   "metadata": {},
   "outputs": [],
   "source": [
    "# Conditioned on the observed pixels, complete the rest of the image\n"
   ]
  },
  {
   "cell_type": "markdown",
   "metadata": {},
   "source": [
    "# 2) DBN Task\n",
    "\n",
    "Truncate our dataset and only retain images of digits $\\textbf{7}, \\textbf{8}$, and $\\textbf{9}$.\n",
    "Build a DBN with two hidden layers with 500 and 784 units respectively, so there are two RBMs with 500 and 784 hidden units."
   ]
  },
  {
   "cell_type": "markdown",
   "metadata": {},
   "source": [
    "## a) Training DBN\n",
    "Training this DBN with gibbs steps $k=3$. For each RBM, plot reconstruction error against the epoch number for training and validation on one plot. So you should include 2 plots here, each contains two curves for training and validation."
   ]
  },
  {
   "cell_type": "code",
   "execution_count": null,
   "metadata": {},
   "outputs": [],
   "source": [
    "dbn = DBN(n_visible=784, layers=layers, \n",
    "          k=k, max_epochs=max_epochs, lr=lr)\n",
    "dbn.fit(X=train_X, valid_X=valid_X)"
   ]
  },
  {
   "cell_type": "markdown",
   "metadata": {},
   "source": [
    "## b) Generation\n",
    "\n",
    "Set $k>1000$ for this task. Display the 100 generated samples for digit images in one figure. Do they look like handwritten digits? "
   ]
  },
  {
   "cell_type": "code",
   "execution_count": null,
   "metadata": {},
   "outputs": [],
   "source": []
  },
  {
   "cell_type": "code",
   "execution_count": null,
   "metadata": {},
   "outputs": [],
   "source": []
  }
 ],
 "metadata": {
  "kernelspec": {
   "display_name": "Python 3",
   "language": "python",
   "name": "python3"
  },
  "language_info": {
   "codemirror_mode": {
    "name": "ipython",
    "version": 3
   },
   "file_extension": ".py",
   "mimetype": "text/x-python",
   "name": "python",
   "nbconvert_exporter": "python",
   "pygments_lexer": "ipython3",
   "version": "3.8.18"
  }
 },
 "nbformat": 4,
 "nbformat_minor": 2
}
